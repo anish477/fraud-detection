{
 "cells": [
  {
   "cell_type": "code",
   "execution_count": 1,
   "id": "a5d19934",
   "metadata": {},
   "outputs": [
    {
     "data": {
      "text/html": [
       "<div>\n",
       "<style scoped>\n",
       "    .dataframe tbody tr th:only-of-type {\n",
       "        vertical-align: middle;\n",
       "    }\n",
       "\n",
       "    .dataframe tbody tr th {\n",
       "        vertical-align: top;\n",
       "    }\n",
       "\n",
       "    .dataframe thead th {\n",
       "        text-align: right;\n",
       "    }\n",
       "</style>\n",
       "<table border=\"1\" class=\"dataframe\">\n",
       "  <thead>\n",
       "    <tr style=\"text-align: right;\">\n",
       "      <th></th>\n",
       "      <th>step</th>\n",
       "      <th>customer</th>\n",
       "      <th>age</th>\n",
       "      <th>gender</th>\n",
       "      <th>zipcodeOri</th>\n",
       "      <th>merchant</th>\n",
       "      <th>zipMerchant</th>\n",
       "      <th>category</th>\n",
       "      <th>amount</th>\n",
       "      <th>fraud</th>\n",
       "    </tr>\n",
       "  </thead>\n",
       "  <tbody>\n",
       "    <tr>\n",
       "      <th>0</th>\n",
       "      <td>0</td>\n",
       "      <td>'C1093826151'</td>\n",
       "      <td>'4'</td>\n",
       "      <td>'M'</td>\n",
       "      <td>'28007'</td>\n",
       "      <td>'M348934600'</td>\n",
       "      <td>'28007'</td>\n",
       "      <td>'es_transportation'</td>\n",
       "      <td>4.55</td>\n",
       "      <td>0</td>\n",
       "    </tr>\n",
       "    <tr>\n",
       "      <th>1</th>\n",
       "      <td>0</td>\n",
       "      <td>'C352968107'</td>\n",
       "      <td>'2'</td>\n",
       "      <td>'M'</td>\n",
       "      <td>'28007'</td>\n",
       "      <td>'M348934600'</td>\n",
       "      <td>'28007'</td>\n",
       "      <td>'es_transportation'</td>\n",
       "      <td>39.68</td>\n",
       "      <td>0</td>\n",
       "    </tr>\n",
       "    <tr>\n",
       "      <th>2</th>\n",
       "      <td>0</td>\n",
       "      <td>'C2054744914'</td>\n",
       "      <td>'4'</td>\n",
       "      <td>'F'</td>\n",
       "      <td>'28007'</td>\n",
       "      <td>'M1823072687'</td>\n",
       "      <td>'28007'</td>\n",
       "      <td>'es_transportation'</td>\n",
       "      <td>26.89</td>\n",
       "      <td>0</td>\n",
       "    </tr>\n",
       "    <tr>\n",
       "      <th>3</th>\n",
       "      <td>0</td>\n",
       "      <td>'C1760612790'</td>\n",
       "      <td>'3'</td>\n",
       "      <td>'M'</td>\n",
       "      <td>'28007'</td>\n",
       "      <td>'M348934600'</td>\n",
       "      <td>'28007'</td>\n",
       "      <td>'es_transportation'</td>\n",
       "      <td>17.25</td>\n",
       "      <td>0</td>\n",
       "    </tr>\n",
       "    <tr>\n",
       "      <th>4</th>\n",
       "      <td>0</td>\n",
       "      <td>'C757503768'</td>\n",
       "      <td>'5'</td>\n",
       "      <td>'M'</td>\n",
       "      <td>'28007'</td>\n",
       "      <td>'M348934600'</td>\n",
       "      <td>'28007'</td>\n",
       "      <td>'es_transportation'</td>\n",
       "      <td>35.72</td>\n",
       "      <td>0</td>\n",
       "    </tr>\n",
       "  </tbody>\n",
       "</table>\n",
       "</div>"
      ],
      "text/plain": [
       "   step       customer  age gender zipcodeOri       merchant zipMerchant  \\\n",
       "0     0  'C1093826151'  '4'    'M'    '28007'   'M348934600'     '28007'   \n",
       "1     0   'C352968107'  '2'    'M'    '28007'   'M348934600'     '28007'   \n",
       "2     0  'C2054744914'  '4'    'F'    '28007'  'M1823072687'     '28007'   \n",
       "3     0  'C1760612790'  '3'    'M'    '28007'   'M348934600'     '28007'   \n",
       "4     0   'C757503768'  '5'    'M'    '28007'   'M348934600'     '28007'   \n",
       "\n",
       "              category  amount  fraud  \n",
       "0  'es_transportation'    4.55      0  \n",
       "1  'es_transportation'   39.68      0  \n",
       "2  'es_transportation'   26.89      0  \n",
       "3  'es_transportation'   17.25      0  \n",
       "4  'es_transportation'   35.72      0  "
      ]
     },
     "execution_count": 1,
     "metadata": {},
     "output_type": "execute_result"
    }
   ],
   "source": [
    "import pandas as pd\n",
    "from sklearn.preprocessing import StandardScaler, OneHotEncoder\n",
    "from sklearn.compose import ColumnTransformer\n",
    "from sklearn.pipeline import Pipeline\n",
    "\n",
    "# Load the dataset\n",
    "data = pd.read_csv('bank_sim.csv')\n",
    "data.head()\n",
    "\n"
   ]
  },
  {
   "cell_type": "code",
   "execution_count": 2,
   "id": "6986f710",
   "metadata": {},
   "outputs": [
    {
     "name": "stdout",
     "output_type": "stream",
     "text": [
      "Unique zipCodeOri values:  1\n",
      "Unique zipMerchant values:  1\n"
     ]
    }
   ],
   "source": [
    "print(\"Unique zipCodeOri values: \",data.zipcodeOri.nunique())\n",
    "print(\"Unique zipMerchant values: \",data.zipMerchant.nunique())\n",
    "# dropping zipcodeori and zipMerchant since they have only one unique value\n",
    "data_reduced = data.drop(['zipcodeOri','zipMerchant'],axis=1)"
   ]
  },
  {
   "cell_type": "code",
   "execution_count": 3,
   "id": "253f93ac",
   "metadata": {},
   "outputs": [
    {
     "data": {
      "text/plain": [
       "Index(['step', 'customer', 'age', 'gender', 'merchant', 'category', 'amount',\n",
       "       'fraud'],\n",
       "      dtype='object')"
      ]
     },
     "execution_count": 3,
     "metadata": {},
     "output_type": "execute_result"
    }
   ],
   "source": [
    "data_reduced.columns"
   ]
  },
  {
   "cell_type": "code",
   "execution_count": 4,
   "id": "9d6c1402",
   "metadata": {},
   "outputs": [
    {
     "data": {
      "text/html": [
       "<div>\n",
       "<style scoped>\n",
       "    .dataframe tbody tr th:only-of-type {\n",
       "        vertical-align: middle;\n",
       "    }\n",
       "\n",
       "    .dataframe tbody tr th {\n",
       "        vertical-align: top;\n",
       "    }\n",
       "\n",
       "    .dataframe thead th {\n",
       "        text-align: right;\n",
       "    }\n",
       "</style>\n",
       "<table border=\"1\" class=\"dataframe\">\n",
       "  <thead>\n",
       "    <tr style=\"text-align: right;\">\n",
       "      <th></th>\n",
       "      <th>step</th>\n",
       "      <th>customer</th>\n",
       "      <th>age</th>\n",
       "      <th>gender</th>\n",
       "      <th>merchant</th>\n",
       "      <th>category</th>\n",
       "      <th>amount</th>\n",
       "      <th>fraud</th>\n",
       "    </tr>\n",
       "  </thead>\n",
       "  <tbody>\n",
       "    <tr>\n",
       "      <th>0</th>\n",
       "      <td>0</td>\n",
       "      <td>210</td>\n",
       "      <td>4</td>\n",
       "      <td>2</td>\n",
       "      <td>30</td>\n",
       "      <td>12</td>\n",
       "      <td>4.55</td>\n",
       "      <td>0</td>\n",
       "    </tr>\n",
       "    <tr>\n",
       "      <th>1</th>\n",
       "      <td>0</td>\n",
       "      <td>2753</td>\n",
       "      <td>2</td>\n",
       "      <td>2</td>\n",
       "      <td>30</td>\n",
       "      <td>12</td>\n",
       "      <td>39.68</td>\n",
       "      <td>0</td>\n",
       "    </tr>\n",
       "    <tr>\n",
       "      <th>2</th>\n",
       "      <td>0</td>\n",
       "      <td>2285</td>\n",
       "      <td>4</td>\n",
       "      <td>1</td>\n",
       "      <td>18</td>\n",
       "      <td>12</td>\n",
       "      <td>26.89</td>\n",
       "      <td>0</td>\n",
       "    </tr>\n",
       "    <tr>\n",
       "      <th>3</th>\n",
       "      <td>0</td>\n",
       "      <td>1650</td>\n",
       "      <td>3</td>\n",
       "      <td>2</td>\n",
       "      <td>30</td>\n",
       "      <td>12</td>\n",
       "      <td>17.25</td>\n",
       "      <td>0</td>\n",
       "    </tr>\n",
       "    <tr>\n",
       "      <th>4</th>\n",
       "      <td>0</td>\n",
       "      <td>3585</td>\n",
       "      <td>5</td>\n",
       "      <td>2</td>\n",
       "      <td>30</td>\n",
       "      <td>12</td>\n",
       "      <td>35.72</td>\n",
       "      <td>0</td>\n",
       "    </tr>\n",
       "  </tbody>\n",
       "</table>\n",
       "</div>"
      ],
      "text/plain": [
       "   step  customer  age  gender  merchant  category  amount  fraud\n",
       "0     0       210    4       2        30        12    4.55      0\n",
       "1     0      2753    2       2        30        12   39.68      0\n",
       "2     0      2285    4       1        18        12   26.89      0\n",
       "3     0      1650    3       2        30        12   17.25      0\n",
       "4     0      3585    5       2        30        12   35.72      0"
      ]
     },
     "execution_count": 4,
     "metadata": {},
     "output_type": "execute_result"
    }
   ],
   "source": [
    "# turning object columns type to categorical for easing the transformation process\n",
    "col_categorical = data_reduced.select_dtypes(include= ['object']).columns\n",
    "for col in col_categorical:\n",
    "    data_reduced[col] = data_reduced[col].astype('category')\n",
    "# categorical values ==> numeric values\n",
    "data_reduced[col_categorical] = data_reduced[col_categorical].apply(lambda x: x.cat.codes)\n",
    "data_reduced.head(5)"
   ]
  },
  {
   "cell_type": "code",
   "execution_count": 5,
   "id": "f72ed945",
   "metadata": {},
   "outputs": [
    {
     "name": "stdout",
     "output_type": "stream",
     "text": [
      "   step  customer  age  gender  merchant  category  amount\n",
      "0     0       210    4       2        30        12    4.55\n",
      "1     0      2753    2       2        30        12   39.68\n",
      "2     0      2285    4       1        18        12   26.89\n",
      "3     0      1650    3       2        30        12   17.25\n",
      "4     0      3585    5       2        30        12   35.72 \n",
      "\n",
      "0    0\n",
      "1    0\n",
      "2    0\n",
      "3    0\n",
      "4    0\n",
      "Name: fraud, dtype: int64\n"
     ]
    }
   ],
   "source": [
    "X = data_reduced.drop(['fraud'],axis=1)\n",
    "y = data['fraud']\n",
    "print(X.head(),\"\\n\")\n",
    "print(y.head())"
   ]
  },
  {
   "cell_type": "code",
   "execution_count": 6,
   "id": "55d63556",
   "metadata": {},
   "outputs": [
    {
     "data": {
      "text/plain": [
       "7200"
      ]
     },
     "execution_count": 6,
     "metadata": {},
     "output_type": "execute_result"
    }
   ],
   "source": [
    "#Number of Fraud cases \n",
    "y[y==1].count()"
   ]
  },
  {
   "cell_type": "code",
   "execution_count": 7,
   "id": "6f7d21fc",
   "metadata": {},
   "outputs": [
    {
     "data": {
      "text/plain": [
       "587443"
      ]
     },
     "execution_count": 7,
     "metadata": {},
     "output_type": "execute_result"
    }
   ],
   "source": [
    "#Number of non fraud cases\n",
    "y[y==0].count()"
   ]
  },
  {
   "cell_type": "code",
   "execution_count": 8,
   "id": "98cf3614",
   "metadata": {},
   "outputs": [
    {
     "name": "stdout",
     "output_type": "stream",
     "text": [
      "Size of data_fraud_0: (587443, 8)\n",
      "Size of data_fraud_1: (7200, 8)\n",
      "First few rows of data_fraud_0:\n",
      "    step  customer  age  gender  merchant  category  amount  fraud\n",
      "0     0       210    4       2        30        12    4.55      0\n",
      "1     0      2753    2       2        30        12   39.68      0\n",
      "2     0      2285    4       1        18        12   26.89      0\n",
      "3     0      1650    3       2        30        12   17.25      0\n",
      "4     0      3585    5       2        30        12   35.72      0\n",
      "First few rows of data_fraud_1:\n",
      "      step  customer  age  gender  merchant  category  amount  fraud\n",
      "88      0      3219    3       2        34         4   44.26      1\n",
      "89      0       723    3       2        34         4  324.50      1\n",
      "434     0       362    3       2        44         6  176.32      1\n",
      "435     0      4040    3       2        44         6  337.41      1\n",
      "553     0       969    4       1         2        14  220.11      1\n"
     ]
    }
   ],
   "source": [
    "data_fraud_0 = data_reduced[data_reduced['fraud'] == 0]\n",
    "data_fraud_1 = data_reduced[data_reduced['fraud'] == 1]\n",
    "\n",
    "# Check the size of each subset\n",
    "print(\"Size of data_fraud_0:\", data_fraud_0.shape)\n",
    "print(\"Size of data_fraud_1:\", data_fraud_1.shape)\n",
    "# Display first few rows of each subset to verify\n",
    "print(\"First few rows of data_fraud_0:\\n\", data_fraud_0.head())\n",
    "print(\"First few rows of data_fraud_1:\\n\", data_fraud_1.head())"
   ]
  },
  {
   "cell_type": "code",
   "execution_count": 9,
   "id": "08552295",
   "metadata": {},
   "outputs": [
    {
     "name": "stdout",
     "output_type": "stream",
     "text": [
      "Train set size: (352465, 8)\n",
      "Cross-validation set size: (121089, 8)\n",
      "Test set size: (121089, 8)\n",
      "Train set distribution:\n",
      " fraud\n",
      "0    352465\n",
      "Name: count, dtype: int64\n",
      "Cross-validation set distribution:\n",
      " fraud\n",
      "0    117489\n",
      "1      3600\n",
      "Name: count, dtype: int64\n",
      "Test set distribution:\n",
      " fraud\n",
      "0    117489\n",
      "1      3600\n",
      "Name: count, dtype: int64\n"
     ]
    }
   ],
   "source": [
    "from sklearn.model_selection import train_test_split\n",
    "# Assuming your dataset is already loaded into a DataFrame called data_reduced\n",
    "# data_reduced = pd.read_csv('path_to_your_csv_file.csv')\n",
    "\n",
    "# Separate the data based on the fraud column\n",
    "data_fraud_0 = data_reduced[data_reduced['fraud'] == 0]\n",
    "data_fraud_1 = data_reduced[data_reduced['fraud'] == 1]\n",
    "\n",
    "# Split the fraud=0 data into train (60%), temp (40%)\n",
    "train_fraud_0, temp_fraud_0 = train_test_split(data_fraud_0, test_size=0.4, random_state=42)\n",
    "\n",
    "# Split the temp data into cross-validation (50% of temp, i.e., 20% of original fraud=0) and test (50% of temp, i.e., 20% of original fraud=0)\n",
    "cv_fraud_0, test_fraud_0 = train_test_split(temp_fraud_0, test_size=0.5, random_state=42)\n",
    "\n",
    "# Split the fraud=1 data into cross-validation (50%) and test (50%)\n",
    "cv_fraud_1, test_fraud_1 = train_test_split(data_fraud_1, test_size=0.5, random_state=42)\n",
    "\n",
    "# Combine splits to create final train, cross-validation, and test sets\n",
    "train_set = train_fraud_0\n",
    "cv_set = pd.concat([cv_fraud_0, cv_fraud_1])\n",
    "test_set = pd.concat([test_fraud_0, test_fraud_1])\n",
    "\n",
    "# Check the results\n",
    "print(\"Train set size:\", train_set.shape)\n",
    "print(\"Cross-validation set size:\", cv_set.shape)\n",
    "print(\"Test set size:\", test_set.shape)\n",
    "print(\"Train set distribution:\\n\", train_set['fraud'].value_counts())\n",
    "print(\"Cross-validation set distribution:\\n\", cv_set['fraud'].value_counts())\n",
    "print(\"Test set distribution:\\n\", test_set['fraud'].value_counts())"
   ]
  },
  {
   "cell_type": "code",
   "execution_count": 10,
   "id": "269218ff",
   "metadata": {},
   "outputs": [
    {
     "name": "stdout",
     "output_type": "stream",
     "text": [
      "        category  amount\n",
      "404873        12   10.86\n",
      "140213        12   21.10\n",
      "431098        12   55.22\n",
      "264017         9   41.64\n",
      "296327        12   22.28 \n",
      "\n",
      "        category  amount\n",
      "542826        12   10.89\n",
      "198605         0   63.06\n",
      "169541         2   56.32\n",
      "476894        12   46.69\n",
      "482791         4  300.57\n"
     ]
    }
   ],
   "source": [
    "#removing the not very useful features in my opinion, tweaking with gender and age it's a little hard to tell if these are relevant\n",
    "X_train = train_set.drop(['fraud', 'step', 'customer', 'merchant', 'gender', 'age'],axis=1)\n",
    "X_cv = cv_set.drop(['fraud', 'step', 'customer', 'merchant', 'gender', 'age'],axis=1)\n",
    "Y_cv = cv_set['fraud']\n",
    "X_test = test_set.drop(['fraud', 'step', 'customer', 'merchant', 'gender', 'age'],axis=1)\n",
    "Y_test = test_set['fraud']\n",
    "y = data['fraud']\n",
    "print(X_train.head(),\"\\n\")\n",
    "print(X_cv.head())"
   ]
  },
  {
   "cell_type": "code",
   "execution_count": 11,
   "id": "71088f43",
   "metadata": {},
   "outputs": [
    {
     "name": "stdout",
     "output_type": "stream",
     "text": [
      "        category    amount\n",
      "404873        12  2.473171\n",
      "140213        12  3.095578\n",
      "431098        12  4.029273\n",
      "264017         9  3.752793\n",
      "296327        12  3.147595 \n",
      "\n",
      "        category    amount\n",
      "542826        12  2.475698\n",
      "198605         0  4.159820\n",
      "169541         2  4.048650\n",
      "476894        12  3.864722\n",
      "482791         4  5.709002\n"
     ]
    }
   ],
   "source": [
    "import numpy as np\n",
    "#transform the data to make is more normally distributed \n",
    "X_train['amount'] = np.log1p(X_train['amount'])\n",
    "\n",
    "X_cv['amount'] = np.log1p(X_cv['amount'])\n",
    "\n",
    "X_test['amount'] = np.log1p(X_test['amount'])\n",
    "\n",
    "print(X_train.head(),\"\\n\")\n",
    "print(X_cv.head())"
   ]
  },
  {
   "cell_type": "code",
   "execution_count": 12,
   "id": "67d14012",
   "metadata": {},
   "outputs": [],
   "source": [
    "from sklearn.preprocessing import StandardScaler, MinMaxScaler\n",
    "import pandas as pd\n",
    "X_cv   = X_cv.reindex(columns=X_train.columns)\n",
    "X_test = X_test.reindex(columns=X_train.columns)\n",
    "# --- Z‑score (Standard) scaling ---\n",
    "scaler_z = StandardScaler()\n",
    "X_train_z = scaler_z.fit_transform(X_train)\n",
    "X_cv_z    = scaler_z.transform(X_cv)\n",
    "X_test_z  = scaler_z.transform(X_test)\n",
    "\n",
    "# back to DataFrame (optional)\n",
    "X_train_z = pd.DataFrame(X_train_z, columns=X_train.columns, index=X_train.index)\n",
    "X_cv_z    = pd.DataFrame(X_cv_z,    columns=X_cv.columns,    index=X_cv.index)\n",
    "X_test_z  = pd.DataFrame(X_test_z,  columns=X_test.columns,  index=X_test.index)\n",
    "\n",
    "# --- Min‑Max scaling ---\n",
    "scaler_mm = MinMaxScaler()\n",
    "X_train_mm = scaler_mm.fit_transform(X_train)\n",
    "X_cv_mm    = scaler_mm.transform(X_cv)\n",
    "X_test_mm  = scaler_mm.transform(X_test)\n",
    "\n",
    "# back to DataFrame (optional)\n",
    "X_train_mm = pd.DataFrame(X_train_mm, columns=X_train.columns, index=X_train.index)\n",
    "X_cv_mm    = pd.DataFrame(X_cv_mm,    columns=X_cv.columns,    index=X_cv.index)\n",
    "X_test_mm  = pd.DataFrame(X_test_mm,  columns=X_test.columns,  index=X_test.index)"
   ]
  },
  {
   "cell_type": "code",
   "execution_count": 13,
   "id": "1f27d5fa",
   "metadata": {},
   "outputs": [
    {
     "name": "stdout",
     "output_type": "stream",
     "text": [
      "Looking in indexes: https://pypi.org/simple, https://download.pytorch.org/whl/cu117\n",
      "Requirement already satisfied: torch in c:\\users\\anish\\anaconda3\\lib\\site-packages (2.7.0)\n",
      "Requirement already satisfied: torchvision in c:\\users\\anish\\anaconda3\\lib\\site-packages (0.22.0)\n",
      "Requirement already satisfied: torchaudio in c:\\users\\anish\\anaconda3\\lib\\site-packages (2.7.0)\n",
      "Requirement already satisfied: filelock in c:\\users\\anish\\anaconda3\\lib\\site-packages (from torch) (3.13.1)\n",
      "Requirement already satisfied: typing-extensions>=4.10.0 in c:\\users\\anish\\anaconda3\\lib\\site-packages (from torch) (4.11.0)\n",
      "Requirement already satisfied: sympy>=1.13.3 in c:\\users\\anish\\anaconda3\\lib\\site-packages (from torch) (1.13.3)\n",
      "Requirement already satisfied: networkx in c:\\users\\anish\\anaconda3\\lib\\site-packages (from torch) (3.3)\n",
      "Requirement already satisfied: jinja2 in c:\\users\\anish\\anaconda3\\lib\\site-packages (from torch) (3.1.4)\n",
      "Requirement already satisfied: fsspec in c:\\users\\anish\\anaconda3\\lib\\site-packages (from torch) (2024.6.1)\n",
      "Requirement already satisfied: setuptools in c:\\users\\anish\\anaconda3\\lib\\site-packages (from torch) (75.1.0)\n",
      "Requirement already satisfied: numpy in c:\\users\\anish\\anaconda3\\lib\\site-packages (from torchvision) (1.26.4)\n",
      "Requirement already satisfied: pillow!=8.3.*,>=5.3.0 in c:\\users\\anish\\anaconda3\\lib\\site-packages (from torchvision) (10.4.0)\n",
      "Requirement already satisfied: mpmath<1.4,>=1.1.0 in c:\\users\\anish\\anaconda3\\lib\\site-packages (from sympy>=1.13.3->torch) (1.3.0)\n",
      "Requirement already satisfied: MarkupSafe>=2.0 in c:\\users\\anish\\anaconda3\\lib\\site-packages (from jinja2->torch) (2.1.3)\n"
     ]
    }
   ],
   "source": [
    "!pip install torch torchvision torchaudio --extra-index-url https://download.pytorch.org/whl/cu117"
   ]
  },
  {
   "cell_type": "code",
   "execution_count": 14,
   "id": "e01e6eeb",
   "metadata": {},
   "outputs": [
    {
     "name": "stdout",
     "output_type": "stream",
     "text": [
      "Epoch 1: max_loss=282.2065 min_loss=35.6939\n",
      "Epoch 2: max_loss=317.2843 min_loss=32.5651\n",
      "Epoch 3: max_loss=316.7876 min_loss=32.8367\n",
      "Epoch 4: max_loss=330.9507 min_loss=34.8848\n",
      "Epoch 5: max_loss=355.8054 min_loss=37.4713\n",
      "Epoch 6: max_loss=384.0968 min_loss=40.2576\n",
      "Epoch 7: max_loss=402.2258 min_loss=41.2223\n",
      "Epoch 8: max_loss=406.3733 min_loss=41.5041\n",
      "Epoch 9: max_loss=408.7054 min_loss=41.6979\n",
      "Epoch 10: max_loss=411.1672 min_loss=29.7092\n",
      "Computed anomaly scores on test set: (3631800,)\n"
     ]
    }
   ],
   "source": [
    "# …existing code…\n",
    "\n",
    "# --- New cell: import model & prepare sequences ---\n",
    "import sys\n",
    "sys.path.append(r'c:\\Users\\anish\\Desktop\\Big Data\\anomaly_transformer_pytorch')\n",
    "from model import AnomalyTransformer\n",
    "import torch\n",
    "from torch.utils.data import DataLoader\n",
    "import numpy as np\n",
    "\n",
    "# hyper‐parameters\n",
    "seq_len    = 30\n",
    "batch_size = 64\n",
    "epochs     = 10\n",
    "lr         = 1e-4\n",
    "lambda_    = 0.1      # association discrepancy weight\n",
    "n_layers   = 2\n",
    "d_model    = X_train_mm.shape[1]\n",
    "device     = torch.device(\"cuda\" if torch.cuda.is_available() else \"cpu\")\n",
    "\n",
    "# helper to build sliding windows\n",
    "def make_sequences(df, L):\n",
    "    A = df.values.astype(np.float32)\n",
    "    return torch.stack([torch.from_numpy(A[i:i+L]) \n",
    "                        for i in range(len(A) - L + 1)])\n",
    "\n",
    "train_seq = make_sequences(X_train_mm, seq_len)\n",
    "cv_seq    = make_sequences(X_cv_mm,    seq_len)\n",
    "test_seq  = make_sequences(X_test_mm,  seq_len)\n",
    "\n",
    "train_loader = DataLoader(train_seq, batch_size=batch_size, shuffle=True)\n",
    "\n",
    "# --- instantiate model, optimizer ---\n",
    "model     = AnomalyTransformer(N=seq_len, d_model=d_model, layers=n_layers, lambda_=lambda_).to(device)\n",
    "optimizer = torch.optim.Adam(model.parameters(), lr=lr)\n",
    "\n",
    "# --- training loop: alternate max‐step and min‐step per epoch ---\n",
    "for epoch in range(1, epochs+1):\n",
    "    model.train()\n",
    "    max_loss_acc = 0.0\n",
    "    min_loss_acc = 0.0\n",
    "\n",
    "    # MAX step (maximize association discrepancy)\n",
    "    for batch in train_loader:\n",
    "        x = batch.to(device)\n",
    "        optimizer.zero_grad()\n",
    "        _ = model(x)                       # forward populates P_layers & S_layers\n",
    "        loss_max = model.max_loss(x)\n",
    "        (-loss_max).backward()             # maximize\n",
    "        optimizer.step()\n",
    "        max_loss_acc += loss_max.item()\n",
    "\n",
    "    # MIN step (minimize reconstruction minus discrepancy)\n",
    "    for batch in train_loader:\n",
    "        x = batch.to(device)\n",
    "        optimizer.zero_grad()\n",
    "        _ = model(x)\n",
    "        loss_min = model.min_loss(x)\n",
    "        loss_min.backward()\n",
    "        optimizer.step()\n",
    "        min_loss_acc += loss_min.item()\n",
    "\n",
    "    print(f\"Epoch {epoch}: max_loss={max_loss_acc/len(train_loader):.4f} \"\n",
    "          f\"min_loss={min_loss_acc/len(train_loader):.4f}\")\n",
    "\n",
    "# --- evaluation: compute anomaly scores on test set ---\n",
    "model.eval()\n",
    "scores = []\n",
    "with torch.no_grad():\n",
    "    for seq in test_seq:\n",
    "        x = seq.to(device)\n",
    "        _ = model(x)\n",
    "        sc = model.anomaly_score(x).cpu().numpy()\n",
    "        scores.append(sc)\n",
    "\n",
    "# flatten into one 1d array of scores\n",
    "anomaly_scores = np.concatenate(scores)\n",
    "print(\"Computed anomaly scores on test set:\", anomaly_scores.shape)"
   ]
  },
  {
   "cell_type": "code",
   "execution_count": 23,
   "id": "fd5ebc41",
   "metadata": {},
   "outputs": [
    {
     "name": "stdout",
     "output_type": "stream",
     "text": [
      "Model state dictionary saved to C:\\Users\\anish\\Desktop\\Big Data\\anomaly_transformer_model.pth\n"
     ]
    }
   ],
   "source": [
    "import torch\n",
    "import os # Import the os module\n",
    "\n",
    "# Define the directory where you want to save the model\n",
    "save_dir = r'C:\\Users\\anish\\Desktop\\Big Data' \n",
    "# Define the filename for the saved model\n",
    "filename = 'anomaly_transformer_model.pth'\n",
    "# Combine directory and filename into a full path\n",
    "save_path = os.path.join(save_dir, filename)\n",
    "\n",
    "# Ensure the directory exists (optional, but good practice)\n",
    "os.makedirs(save_dir, exist_ok=True) \n",
    "\n",
    "# Save the model's state dictionary\n",
    "torch.save(model.state_dict(), save_path)\n",
    "\n",
    "print(f\"Model state dictionary saved to {save_path}\")"
   ]
  },
  {
   "cell_type": "code",
   "execution_count": null,
   "id": "916765a0",
   "metadata": {},
   "outputs": [],
   "source": [
    "# Load the state dictionary into the model\n",
    "model.load_state_dict(torch.load('c:\\Users\\anish\\Desktop\\Big Data\\fraud_detection_name.h5'))\n",
    "model.eval()\n",
    "print(\"Model loaded successfully!\")"
   ]
  },
  {
   "cell_type": "code",
   "execution_count": 24,
   "id": "ad10ff32",
   "metadata": {},
   "outputs": [
    {
     "name": "stdout",
     "output_type": "stream",
     "text": [
      "Aligned scores shape: (121060,)\n",
      "Aligned labels shape: (121060,)\n"
     ]
    },
    {
     "data": {
      "image/png": "[encoded data removed]",
      "text/plain": [
       "<Figure size 800x600 with 1 Axes>"
      ]
     },
     "metadata": {},
     "output_type": "display_data"
    },
    {
     "data": {
      "image/png": "[encoded data removed]",
      "text/plain": [
       "<Figure size 800x600 with 1 Axes>"
      ]
     },
     "metadata": {},
     "output_type": "display_data"
    },
    {
     "name": "stdout",
     "output_type": "stream",
     "text": [
      "ROC AUC Score: 0.5499\n",
      "Precision-Recall AUC Score: 0.0397\n",
      "\n",
      "Best Threshold (based on max F1 on PR curve): 0.0813\n",
      "Best F1 Score: 0.0812\n",
      "Precision at best threshold: 0.0498\n",
      "Recall at best threshold: 0.2186\n",
      "\n",
      "Classification Report:\n",
      "               precision    recall  f1-score   support\n",
      "\n",
      "Non-Fraud (0)       0.97      0.87      0.92    117460\n",
      "    Fraud (1)       0.05      0.22      0.08      3600\n",
      "\n",
      "     accuracy                           0.85    121060\n",
      "    macro avg       0.51      0.55      0.50    121060\n",
      " weighted avg       0.95      0.85      0.90    121060\n",
      "\n",
      "\n",
      "Confusion Matrix:\n",
      "                  Predicted Non-Fraud  Predicted Fraud\n",
      "Actual Non-Fraud               102458            15002\n",
      "Actual Fraud                     2813              787\n"
     ]
    }
   ],
   "source": [
    "import numpy as np\n",
    "import matplotlib.pyplot as plt\n",
    "from sklearn.metrics import precision_recall_curve, auc, roc_curve, roc_auc_score, classification_report, confusion_matrix\n",
    "import pandas as pd\n",
    "\n",
    "# --- Re-calculate scores per sequence (if needed, or adapt alignment) ---\n",
    "# This part assumes you might want a single score per sequence, e.g., the max.\n",
    "# If you want to use the score of the last timestep, the alignment logic below needs adjustment.\n",
    "\n",
    "model.eval()\n",
    "sequence_scores = []\n",
    "with torch.no_grad():\n",
    "    # Process test_seq in batches if it's very large\n",
    "    test_loader_eval = DataLoader(test_seq, batch_size=batch_size*2) # Use larger batch for eval\n",
    "    for batch in test_loader_eval:\n",
    "        x = batch.to(device)\n",
    "        _ = model(x) # Forward pass to populate internal states\n",
    "        # model.anomaly_score(x) returns scores per position: shape (batch, seq_len)\n",
    "        # We take the max score across the sequence length dimension for each sequence in the batch\n",
    "        sc = model.anomaly_score(x).max(dim=1)[0] # Get max score per sequence\n",
    "        sequence_scores.append(sc.cpu().numpy())\n",
    "\n",
    "# Concatenate scores from all batches\n",
    "sequence_scores = np.concatenate(sequence_scores) # Shape: (num_sequences,)\n",
    "\n",
    "# --- Align scores with original labels ---\n",
    "# The score for sequence `i` (made from original data i to i+seq_len-1)\n",
    "# is assigned to the label of the last element in that sequence.\n",
    "num_sequences = len(sequence_scores)\n",
    "num_original_test_points = len(X_test_mm) # Or len(Y_test)\n",
    "\n",
    "# Ensure Y_test is a NumPy array for easier indexing\n",
    "Y_test_np = Y_test.to_numpy()\n",
    "\n",
    "# Select the labels corresponding to the end of each sequence\n",
    "aligned_labels = Y_test_np[seq_len - 1 : num_sequences + seq_len - 1]\n",
    "\n",
    "# Ensure scores and labels have the same length after alignment\n",
    "if len(sequence_scores) != len(aligned_labels):\n",
    "     print(f\"Warning: Mismatch in length after alignment. Scores: {len(sequence_scores)}, Labels: {len(aligned_labels)}\")\n",
    "     # Adjust if necessary, e.g., trim the longer one. This might indicate an off-by-one error.\n",
    "     min_len = min(len(sequence_scores), len(aligned_labels))\n",
    "     sequence_scores = sequence_scores[:min_len]\n",
    "     aligned_labels = aligned_labels[:min_len]\n",
    "\n",
    "print(f\"Aligned scores shape: {sequence_scores.shape}\")\n",
    "print(f\"Aligned labels shape: {aligned_labels.shape}\")\n",
    "\n",
    "# --- Calculate Precision-Recall Curve ---\n",
    "precision, recall, thresholds_pr = precision_recall_curve(aligned_labels, sequence_scores)\n",
    "pr_auc = auc(recall, precision)\n",
    "\n",
    "plt.figure(figsize=(8, 6))\n",
    "plt.plot(recall, precision, label=f'Precision-Recall Curve (AUC = {pr_auc:.2f})')\n",
    "plt.xlabel('Recall')\n",
    "plt.ylabel('Precision')\n",
    "plt.title('Precision-Recall Curve')\n",
    "plt.legend(loc='lower left')\n",
    "plt.grid(True)\n",
    "plt.show()\n",
    "\n",
    "# --- Calculate ROC Curve ---\n",
    "fpr, tpr, thresholds_roc = roc_curve(aligned_labels, sequence_scores)\n",
    "roc_auc = roc_auc_score(aligned_labels, sequence_scores)\n",
    "\n",
    "plt.figure(figsize=(8, 6))\n",
    "plt.plot(fpr, tpr, label=f'ROC Curve (AUC = {roc_auc:.2f})')\n",
    "plt.plot([0, 1], [0, 1], 'k--', label='Random Guessing')\n",
    "plt.xlabel('False Positive Rate')\n",
    "plt.ylabel('True Positive Rate')\n",
    "plt.title('Receiver Operating Characteristic (ROC) Curve')\n",
    "plt.legend(loc='lower right')\n",
    "plt.grid(True)\n",
    "plt.show()\n",
    "\n",
    "print(f\"ROC AUC Score: {roc_auc:.4f}\")\n",
    "print(f\"Precision-Recall AUC Score: {pr_auc:.4f}\")\n",
    "\n",
    "# --- Find a threshold (Example: Maximize F1-score) ---\n",
    "# Calculate F1 score for each threshold on the PR curve\n",
    "f1_scores = (2 * precision * recall) / (precision + recall + 1e-9) # Add epsilon for stability\n",
    "best_threshold_idx = np.argmax(f1_scores[:-1]) # Exclude the last point (recall=0)\n",
    "best_threshold = thresholds_pr[best_threshold_idx]\n",
    "best_f1 = f1_scores[best_threshold_idx]\n",
    "\n",
    "print(f\"\\nBest Threshold (based on max F1 on PR curve): {best_threshold:.4f}\")\n",
    "print(f\"Best F1 Score: {best_f1:.4f}\")\n",
    "print(f\"Precision at best threshold: {precision[best_threshold_idx]:.4f}\")\n",
    "print(f\"Recall at best threshold: {recall[best_threshold_idx]:.4f}\")\n",
    "\n",
    "# --- Apply threshold and get classification results ---\n",
    "predictions = (sequence_scores >= best_threshold).astype(int)\n",
    "\n",
    "print(\"\\nClassification Report:\")\n",
    "print(classification_report(aligned_labels, predictions, target_names=['Non-Fraud (0)', 'Fraud (1)']))\n",
    "\n",
    "print(\"\\nConfusion Matrix:\")\n",
    "cm = confusion_matrix(aligned_labels, predictions)\n",
    "print(pd.DataFrame(cm, index=['Actual Non-Fraud', 'Actual Fraud'], columns=['Predicted Non-Fraud', 'Predicted Fraud']))"
   ]
  }
 ],
 "metadata": {
  "kernelspec": {
   "display_name": "base",
   "language": "python",
   "name": "python3"
  },
  "language_info": {
   "codemirror_mode": {
    "name": "ipython",
    "version": 3
   },
   "file_extension": ".py",
   "mimetype": "text/x-python",
   "name": "python",
   "nbconvert_exporter": "python",
   "pygments_lexer": "ipython3",
   "version": "3.12.7"
  }
 },
 "nbformat": 4,
 "nbformat_minor": 5
}
